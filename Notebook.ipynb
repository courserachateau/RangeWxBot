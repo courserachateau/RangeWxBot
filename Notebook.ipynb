{
 "cells": [
  {
   "cell_type": "markdown",
   "metadata": {},
   "source": [
    "# RangeWxBot\n",
    "\n"
   ]
  },
  {
   "cell_type": "markdown",
   "metadata": {},
   "source": [
    "The script is intended to validate weather station data in *TOA5 format*. Validation is done for different data types, and range checks are performed to ensure data quality\n",
    "\n",
    "To adjust the ranges, edit the values in `ranges.csv' file.\n",
    "\n"
   ]
  },
  {
   "cell_type": "markdown",
   "metadata": {},
   "source": [
    "### Ranges for different parameters are curently assigned as below\n",
    "\n"
   ]
  },
  {
   "cell_type": "markdown",
   "metadata": {},
   "source": [
    "#### Automated Data Collection\n",
    "\n",
    "Below are the column descriptions for the `SPER_CR6_Daily.data`.\n",
    "\n",
    "|#|Column Name|Units|Value|Low|High|\n",
    "|:-|---|-:|:-|-:|-:|\n",
    "|1|TS|-|Time Stamp|NA|NA|\n",
    "|2|RN|-| Record Number|NA|NA|\n",
    "|3|BattV_Min|Volts|Minimum Battery Volt|0.0|300.0|\n",
    "|4|WS-ms_Avg|$ms^{-1}$|Average Wind Speed|0.0|50.0\n",
    "|5|WS-ms_Max|$ms^{-1}$|Maximum Wind Speed|0.0|90.0\n",
    "|6|WS-ms_TMx|mm-dd-YYYY `HH:MM`|Timestamp of the maximum windspeed|NA|NA|\n",
    "|7|WS_ms_S_WVT|$ms^{-1}$|Mean horizontal wind speed|0.0|50.0|\n",
    "|8|WindDir_D1_WVT|Degree|Mean wind direction|0.0|360.0|\n",
    "|9|WindDir_SD1_WVT|Degree|Standard Deviation of wind direction|0.0|360.0|\n",
    "|10|SlrMJ_Tot|MJ $m^{-2}$|Total Solar Radiation|0.0|40.0|\n",
    "|11|Rain_mm_Tot|mm|Total Rainfall|0.0|50.0|\n",
    "|12|AirTC_Avg|&deg;C|Average Air Temperature|-20.0|40.0|\n",
    "|13|AirTC_Max|&deg;C|Maximum Air Temperature|-10.0|50.0|\n",
    "|14|AirTC_TMx|mm-dd-YYYY `hh:mm`|Timestamp of Maximum Air Temperature|NA|NA|\n",
    "|15|AirTC_Min|&deg;C|Minimum Air Temperature|-30.0|30.0|\n",
    "|16|AirTC_TMn|mm-dd-YYYY `hh:mm`|Timestamp of Minimum Air Temperature|NA|NA|\n",
    "|17|RH_Max|%|Maximum Relative Humidity|25.0|100.0|\n",
    "|18|RH_TMx|mm-dd-YYYY `hh:mm`|Timestamp of Maximum Relative Humidity|NA|NA|\n",
    "|19|RH_Min|%|Minimum Relative Humidity|1.0|96.0|\n",
    "|20|RH_TMn|mm-dd-YYYY `hh:mm`|Timestamp of Minimum Relative Humidity|NA|NA|\n",
    "\n",
    "\n",
    "\n",
    "\n",
    "\n"
   ]
  },
  {
   "cell_type": "code",
   "execution_count": null,
   "metadata": {},
   "outputs": [],
   "source": []
  }
 ],
 "metadata": {
  "kernelspec": {
   "display_name": "Python 2",
   "language": "python",
   "name": "python2"
  },
  "language_info": {
   "codemirror_mode": {
    "name": "ipython",
    "version": 2
   },
   "file_extension": ".py",
   "mimetype": "text/x-python",
   "name": "python",
   "nbconvert_exporter": "python",
   "pygments_lexer": "ipython2",
   "version": "2.7.14"
  }
 },
 "nbformat": 4,
 "nbformat_minor": 2
}
